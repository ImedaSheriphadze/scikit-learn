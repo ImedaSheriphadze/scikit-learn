{
  "nbformat": 4,
  "nbformat_minor": 0,
  "metadata": {
    "colab": {
      "provenance": [],
      "authorship_tag": "ABX9TyMDFignTr1Gu19pyVQxMBPf"
    },
    "kernelspec": {
      "name": "python3",
      "display_name": "Python 3"
    },
    "language_info": {
      "name": "python"
    },
    "accelerator": "GPU",
    "gpuClass": "standard"
  },
  "cells": [
    {
      "cell_type": "markdown",
      "source": [
        "В этом примере показано, как scikit-learn можно использовать для распознавания изображений рукописных цифр от 0 до 9."
      ],
      "metadata": {
        "id": "W0q3hoxDnITD"
      }
    },
    {
      "cell_type": "code",
      "source": [
        "# Стандартный научный импорт Python\n",
        "import matplotlib.pyplot as plt\n",
        "\n",
        "# Импорт наборов данных, классификаторов и показателей производительности\n",
        "from sklearn import datasets, svm, metrics\n",
        "from sklearn.model_selection import train_test_split"
      ],
      "metadata": {
        "id": "jJ8giEE9iP_t"
      },
      "execution_count": 1,
      "outputs": []
    },
    {
      "cell_type": "markdown",
      "source": [
        "# **Набор цифр**\n",
        "\n",
        "Набор данных **digits** состоит из изображений цифр размером 8x8 пикселей. Атрибут images набора данных хранит массивы значений оттенков серого 8x8 для каждого изображения. Мы будем использовать эти массивы для визуализации первых 4 изображений. Атрибут target набора данных хранит цифру, которую представляет каждое изображение, и это включено в заголовок 4 графиков ниже.\n",
        "\n",
        "**Примечание:** если бы мы работали с файлами изображений (например, с файлами «png»), мы бы загрузили их, используя файлы **matplotlib.pyplot.imread**."
      ],
      "metadata": {
        "id": "-odFBZSunWat"
      }
    },
    {
      "cell_type": "code",
      "source": [
        "digits = datasets.load_digits()\n",
        "\n",
        "_, axes = plt.subplots(nrows=1, ncols=4, figsize=(10, 3))\n",
        "for ax, image, label in zip(axes, digits.images, digits.target):\n",
        "    ax.set_axis_off()\n",
        "    ax.imshow(image, cmap=plt.cm.gray_r, interpolation=\"nearest\")\n",
        "    ax.set_title(\"Обучение: %i\" % label)"
      ],
      "metadata": {
        "colab": {
          "base_uri": "https://localhost:8080/",
          "height": 168
        },
        "id": "4IxcY4A9ikCU",
        "outputId": "089b3986-5b2b-40ce-fc25-43ba24357184"
      },
      "execution_count": 2,
      "outputs": [
        {
          "output_type": "display_data",
          "data": {
            "text/plain": [
              "<Figure size 720x216 with 4 Axes>"
            ],
            "image/png": "[encoded data removed]"
          },
          "metadata": {
            "needs_background": "light"
          }
        }
      ]
    },
    {
      "cell_type": "markdown",
      "source": [
        "# **Классификация**\n",
        "\n",
        "Чтобы применить классификатор к этим данным, нам нужно сгладить изображения, превратив каждый двумерный массив значений оттенков серого из shape в shape . Впоследствии весь набор данных будет иметь форму , где — количество изображений, а — общее количество пикселей в каждом изображении.(8, 8)(64,)(n_samples, n_features)n_samplesn_features\n",
        "\n",
        "Затем мы можем разделить данные на обучающие и тестовые подмножества и подобрать классификатор опорных векторов к выборкам поездов. Подогнанный классификатор впоследствии можно использовать для прогнозирования значения цифры для выборок в тестовом подмножестве."
      ],
      "metadata": {
        "id": "gWukRLgbpU8j"
      }
    },
    {
      "cell_type": "code",
      "source": [
        "# сгладить изображения\n",
        "n_samples = len(digits.images)\n",
        "data = digits.images.reshape((n_samples, -1))\n",
        "\n",
        "# Создайте классификатор: классификатор опорных векторов\n",
        "clf = svm.SVC(gamma=0.001)\n",
        "\n",
        "# Разделите данные на 50% обучающих и 50% тестовых подмножеств\n",
        "X_train, X_test, y_train, y_test = train_test_split(\n",
        "    data, digits.target, test_size=0.5, shuffle=False\n",
        ")\n",
        "\n",
        "# Изучите цифры в подмножестве поезда\n",
        "clf.fit(X_train, y_train)\n",
        "\n",
        "# Предсказать значение цифры в тестовом подмножестве\n",
        "predicted = clf.predict(X_test)"
      ],
      "metadata": {
        "id": "_XYeQMWhj6xv"
      },
      "execution_count": 21,
      "outputs": []
    },
    {
      "cell_type": "markdown",
      "source": [
        "Ниже мы визуализируем первые 4 тестовых образца и показываем их предсказанное числовое значение в заголовке."
      ],
      "metadata": {
        "id": "usOENYXGp0kx"
      }
    },
    {
      "cell_type": "code",
      "source": [
        "_, axes = plt.subplots(nrows=1, ncols=4, figsize=(10, 3))\n",
        "for ax, image, prediction in zip(axes, X_test, predicted):\n",
        "    ax.set_axis_off()\n",
        "    image = image.reshape(8, 8)\n",
        "    ax.imshow(image, cmap=plt.cm.gray_r, interpolation=\"nearest\")\n",
        "    ax.set_title(f\"Прогноз: {prediction}\")"
      ],
      "metadata": {
        "colab": {
          "base_uri": "https://localhost:8080/",
          "height": 168
        },
        "id": "ncIks2-LkAFu",
        "outputId": "d1610753-b3b0-4f4f-f4db-c1eb19cc7414"
      },
      "execution_count": 22,
      "outputs": [
        {
          "output_type": "display_data",
          "data": {
            "text/plain": [
              "<Figure size 720x216 with 4 Axes>"
            ],
            "image/png": "[encoded data removed]"
          },
          "metadata": {
            "needs_background": "light"
          }
        }
      ]
    },
    {
      "cell_type": "markdown",
      "source": [
        "**classification_report** строит текстовый отчет, показывающий основные метрики классификации."
      ],
      "metadata": {
        "id": "666CVhPip-OW"
      }
    },
    {
      "cell_type": "code",
      "source": [
        "print(\n",
        "    f\"Отчет о классификации для классификатора {clf}:\\n\"\n",
        "    f\"{metrics.classification_report(y_test, predicted)}\\n\"\n",
        ")"
      ],
      "metadata": {
        "colab": {
          "base_uri": "https://localhost:8080/"
        },
        "id": "ZUqLUZ2qlq6Q",
        "outputId": "12bc73cc-41f5-44ea-c761-c7d8b95e9feb"
      },
      "execution_count": 23,
      "outputs": [
        {
          "output_type": "stream",
          "name": "stdout",
          "text": [
            "Отчет о классификации для классификатора SVC(gamma=0.001):\n",
            "              precision    recall  f1-score   support\n",
            "\n",
            "           0       1.00      0.99      0.99        88\n",
            "           1       0.99      0.97      0.98        91\n",
            "           2       0.99      0.99      0.99        86\n",
            "           3       0.98      0.87      0.92        91\n",
            "           4       0.99      0.96      0.97        92\n",
            "           5       0.95      0.97      0.96        91\n",
            "           6       0.99      0.99      0.99        91\n",
            "           7       0.96      0.99      0.97        89\n",
            "           8       0.94      1.00      0.97        88\n",
            "           9       0.93      0.98      0.95        92\n",
            "\n",
            "    accuracy                           0.97       899\n",
            "   macro avg       0.97      0.97      0.97       899\n",
            "weighted avg       0.97      0.97      0.97       899\n",
            "\n",
            "\n"
          ]
        }
      ]
    },
    {
      "cell_type": "markdown",
      "source": [
        "Мы также можем построить матрицу путаницы истинных значений цифр и предсказанных значений цифр."
      ],
      "metadata": {
        "id": "Poy4Ql4wqQ6I"
      }
    },
    {
      "cell_type": "code",
      "source": [
        "disp = metrics.ConfusionMatrixDisplay.from_predictions(y_test, predicted)\n",
        "disp.figure_.suptitle(\"Матрица путаницы\")\n",
        "print(f\"Матрица путаницы:\\n{disp.confusion_matrix}\")\n",
        "\n",
        "plt.show()"
      ],
      "metadata": {
        "colab": {
          "base_uri": "https://localhost:8080/",
          "height": 499
        },
        "id": "HKrubHczl-Ct",
        "outputId": "09d8f72f-6d99-45a0-9363-b6d76bee6f0c"
      },
      "execution_count": 24,
      "outputs": [
        {
          "output_type": "stream",
          "name": "stdout",
          "text": [
            "Матрица путаницы:\n",
            "[[87  0  0  0  1  0  0  0  0  0]\n",
            " [ 0 88  1  0  0  0  0  0  1  1]\n",
            " [ 0  0 85  1  0  0  0  0  0  0]\n",
            " [ 0  0  0 79  0  3  0  4  5  0]\n",
            " [ 0  0  0  0 88  0  0  0  0  4]\n",
            " [ 0  0  0  0  0 88  1  0  0  2]\n",
            " [ 0  1  0  0  0  0 90  0  0  0]\n",
            " [ 0  0  0  0  0  1  0 88  0  0]\n",
            " [ 0  0  0  0  0  0  0  0 88  0]\n",
            " [ 0  0  0  1  0  1  0  0  0 90]]\n"
          ]
        },
        {
          "output_type": "display_data",
          "data": {
            "text/plain": [
              "<Figure size 432x288 with 2 Axes>"
            ],
            "image/png": "[encoded data removed]"
          },
          "metadata": {
            "needs_background": "light"
          }
        }
      ]
    },
    {
      "cell_type": "markdown",
      "source": [
        "Если результаты оценки классификатора хранятся в виде матрицы путаницы , а не в терминах **y_true** и **y_pred**, можно построить  **classification_report** следующим образом:"
      ],
      "metadata": {
        "id": "7Ih4zQRZqcvz"
      }
    },
    {
      "cell_type": "code",
      "source": [
        "# Основная правда и предсказанные списки\n",
        "y_true = []\n",
        "y_pred = []\n",
        "cm = disp.confusion_matrix\n",
        "\n",
        "# Для каждой ячейки в матрице путаницы добавьте соответствующие основные истины\n",
        "# и прогнозы к спискам\n",
        "for gt in range(len(cm)):\n",
        "    for pred in range(len(cm)):\n",
        "        y_true += [gt] * cm[gt][pred]\n",
        "        y_pred += [pred] * cm[gt][pred]\n",
        "\n",
        "print(\n",
        "    \"Отчет о классификации, восстановленный из-за путаницы matrix:\\n\"\n",
        "    f\"{metrics.classification_report(y_true, y_pred)}\\n\"\n",
        ")"
      ],
      "metadata": {
        "colab": {
          "base_uri": "https://localhost:8080/"
        },
        "id": "DA5djoD8mYvS",
        "outputId": "cc4cb8df-3757-4aad-ef40-78987a5a8666"
      },
      "execution_count": 25,
      "outputs": [
        {
          "output_type": "stream",
          "name": "stdout",
          "text": [
            "Отчет о классификации, восстановленный из-за путаницы matrix:\n",
            "              precision    recall  f1-score   support\n",
            "\n",
            "           0       1.00      0.99      0.99        88\n",
            "           1       0.99      0.97      0.98        91\n",
            "           2       0.99      0.99      0.99        86\n",
            "           3       0.98      0.87      0.92        91\n",
            "           4       0.99      0.96      0.97        92\n",
            "           5       0.95      0.97      0.96        91\n",
            "           6       0.99      0.99      0.99        91\n",
            "           7       0.96      0.99      0.97        89\n",
            "           8       0.94      1.00      0.97        88\n",
            "           9       0.93      0.98      0.95        92\n",
            "\n",
            "    accuracy                           0.97       899\n",
            "   macro avg       0.97      0.97      0.97       899\n",
            "weighted avg       0.97      0.97      0.97       899\n",
            "\n",
            "\n"
          ]
        }
      ]
    }
  ]
}